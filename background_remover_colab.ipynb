{
  "nbformat": 4,
  "nbformat_minor": 0,
  "metadata": {
    "colab": {
      "provenance": [],
      "authorship_tag": "ABX9TyNMMXs2I6EsdAhmvXk4wcdG",
      "include_colab_link": true
    },
    "kernelspec": {
      "name": "python3",
      "display_name": "Python 3"
    },
    "language_info": {
      "name": "python"
    }
  },
  "cells": [
    {
      "cell_type": "markdown",
      "metadata": {
        "id": "view-in-github",
        "colab_type": "text"
      },
      "source": [
        "<a href=\"https://colab.research.google.com/github/AnotherPianist/background-remover-colab/blob/main/background_remover_colab.ipynb\" target=\"_parent\"><img src=\"https://colab.research.google.com/assets/colab-badge.svg\" alt=\"Open In Colab\"/></a>"
      ]
    },
    {
      "cell_type": "markdown",
      "source": [
        "# Setup"
      ],
      "metadata": {
        "id": "2QEJcF1b5cbn"
      }
    },
    {
      "cell_type": "code",
      "execution_count": null,
      "metadata": {
        "id": "VYc0Ynjm0NRI"
      },
      "outputs": [],
      "source": [
        "import os\n",
        "\n",
        "\n",
        "%cd /content\n",
        "if not os.path.exists(\"MODNet\"):\n",
        "  !git clone https://github.com/ZHKKKe/MODNet\n",
        "%cd MODNet\n",
        "\n",
        "if not os.path.exists(\"pretrained/modnet_photographic_portrait_matting.ckpt\"):\n",
        "  !gdown 1mcr7ALciuAsHCpLnrtG_eop5-EYhbCmz \\\n",
        "  -O pretrained/modnet_photographic_portrait_matting.ckpt"
      ]
    },
    {
      "cell_type": "markdown",
      "source": [
        "# Load Images"
      ],
      "metadata": {
        "id": "VyA5Iy775hGf"
      }
    },
    {
      "cell_type": "code",
      "source": [
        "from google.colab import files\n",
        "\n",
        "\n",
        "if os.path.exists(\"input\"):\n",
        "  !rm -rf input\n",
        "!mkdir input\n",
        "\n",
        "if os.path.exists(\"output\"):\n",
        "  !rm -rf output\n",
        "!mkdir output\n",
        "\n",
        "if os.path.exists(\"result\"):\n",
        "  !rm -rf result\n",
        "!mkdir result\n",
        "\n",
        "%cd input\n",
        "files.upload()\n",
        "%cd .."
      ],
      "metadata": {
        "id": "nlsi6rx452bC"
      },
      "execution_count": null,
      "outputs": []
    },
    {
      "cell_type": "markdown",
      "source": [
        "# Process Images"
      ],
      "metadata": {
        "id": "LudXAdxl9JOU"
      }
    },
    {
      "cell_type": "code",
      "source": [
        "from PIL import Image\n",
        "\n",
        "\n",
        "!python -m demo.image_matting.colab.inference \\\n",
        "        --input-path input \\\n",
        "        --output-path output \\\n",
        "        --ckpt-path pretrained/modnet_photographic_portrait_matting.ckpt\n",
        "\n",
        "\n",
        "img_names = os.listdir(\"input\")\n",
        "\n",
        "for img_name in img_names:\n",
        "  img = Image.open(os.path.join(\"input\", img_name))\n",
        "  matte = Image.open(os.path.join(\"output\", img_name))\n",
        "\n",
        "  img.putalpha(matte)\n",
        "\n",
        "  res_name = img_name.split(\".\")[0] + \".png\"\n",
        "  img.save(os.path.join(\"result\", res_name))"
      ],
      "metadata": {
        "id": "v9mYFnwq9P8n"
      },
      "execution_count": null,
      "outputs": []
    },
    {
      "cell_type": "markdown",
      "source": [
        "# Download Images"
      ],
      "metadata": {
        "id": "DvIv8k_IcOCU"
      }
    },
    {
      "cell_type": "code",
      "source": [
        "res_filename = \"images-no-bg.zip\"\n",
        "\n",
        "if os.path.exists(res_filename):\n",
        "  os.remove(res_filename)\n",
        "os.system(f\"zip -r -j {res_filename} result/*\")\n",
        "files.download(res_filename)"
      ],
      "metadata": {
        "id": "ybFFU54bcTy1"
      },
      "execution_count": null,
      "outputs": []
    }
  ]
}